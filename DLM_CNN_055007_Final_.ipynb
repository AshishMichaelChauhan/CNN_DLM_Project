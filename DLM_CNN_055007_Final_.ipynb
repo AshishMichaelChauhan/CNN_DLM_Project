{
  "cells": [
    {
      "cell_type": "markdown",
      "metadata": {
        "id": "9dX4L9GXuXKq"
      },
      "source": [
        "# MNIST Handwritten Digit Recognizer using Deep CNN\n",
        "\n",
        "Contributors:\n",
        "- Ashish Michael Chauhan (055007)"
      ]
    },
    {
      "cell_type": "markdown",
      "metadata": {
        "id": "K_YntzlsRNWx"
      },
      "source": [
        "## Problem Statement:\n",
        "\n",
        "Handwritten digit recognition plays a vital role in numerous real-world applications, including postal mail sorting, bank check processing, and automated form digitization. However, conventional methods often face challenges due to the diversity in handwriting styles, resulting in inaccuracies. This project aims to build a Deep Convolutional Neural Network (CNN) model capable of accurately classifying handwritten digits. By utilizing deep learning techniques, the model enhances pattern recognition and generalization, boosting recognition efficiency and minimizing the need for manual intervention. The goal is to create a robust solution suitable for real-world deployment in automated handwriting recognition systems.\n",
        "\n"
      ]
    },
    {
      "cell_type": "markdown",
      "metadata": {
        "id": "l97pEQXwvpNT"
      },
      "source": [
        "## Project Structure\n",
        "\n",
        "1. Importing Libraries\n",
        "2. Preparing the Dataset\n",
        "3. Model Building\n",
        "4. Model Fitting\n",
        "5. Model Analysis\n",
        "6. Predicting using test data\n"
      ]
    },
    {
      "cell_type": "markdown",
      "metadata": {
        "id": "1KOhAGcOwIYp"
      },
      "source": [
        "## Data Analysis\n",
        "\n",
        "### 1. Importing the Libraries\n",
        "\n",
        "- **TensorFlow v2:** An open-source machine learning framework developed by Google, widely used for building and training deep learning models.\n",
        "- **Keras:** A high-level neural network library that runs on top of TensorFlow, simplifying the process of creating and training deep learning models.\n",
        "\n",
        "### 2. Preparing the Dataset\n",
        "\n",
        "We utilized the **MNIST Handwritten Digit Recognition** dataset for this project. The dataset was loaded into a `pandas` DataFrame using `read_csv`, enabling structured data manipulation.\n",
        "\n",
        "- The **label column** was extracted and stored in `Y_ac07train`, representing the target variable for training.\n",
        "- The corresponding **pixel values** of the handwritten digits were stored in `X_ac07train` to serve as the model's input features.\n",
        "\n",
        "To understand the distribution of digit classes, we visualized the total count of each category using a **countplot**. Additionally, we checked for any missing values to ensure data integrity before proceeding with preprocessing and model training.\n",
        "\n",
        "#### 2.1. Normalization\n",
        "\n",
        "Normalization was applied to scale down the input values, optimizing the model’s training process. The pixel values in the dataset range from **0 to 255**, representing different shades of gray.\n",
        "\n",
        "To enhance efficiency, each pixel value was divided by **255**, transforming the range to **[0, 1]**. This scaling technique:\n",
        "- Speeds up model convergence.\n",
        "- Stabilizes gradient updates.\n",
        "- Reduces computational complexity.\n",
        "- Improves feature learning, allowing the model to detect patterns more effectively.\n",
        "\n",
        "#### 2.2. Reshaping\n",
        "\n",
        "The pixel value array was reshaped into a **(28, 28, 1)** matrix. The CNN model accepts inputs in this matrix format, where:\n",
        "- **28x28** represents the image dimensions.\n",
        "- **1** indicates a single grayscale channel.\n",
        "\n",
        "#### 2.3. Encoding\n",
        "\n",
        "To enable the model to handle multi-class classification effectively, the digit labels were **one-hot encoded**. This transformation converts the numerical labels into binary vectors, making the output format compatible with the CNN's prediction layer.\n",
        "\n",
        "One-hot encoding improves the model's ability to learn and classify digit classes accurately during training.\n",
        "\n",
        "#### 2.4. Train-Test Split\n",
        "\n",
        "To evaluate the model's performance, we split the dataset into two sets:\n",
        "- **Training set (`ac07train`)**: Used to train the CNN model.\n",
        "- **Validation set:** Used to assess the model's generalization ability on unseen data.\n",
        "\n",
        "By monitoring the **validation accuracy** and **loss**, we identified potential issues such as:\n",
        "- **Overfitting:** When the model performs well on the training data but poorly on new data.\n",
        "- **Underfitting:** When the model fails to capture essential patterns in the data.\n",
        "\n",
        "This split ensures a balanced evaluation of the model before final testing.\n",
        "\n",
        "---\n",
        "\n",
        "### 3. Model Building\n",
        "\n",
        "We implemented a **Deep Convolutional Neural Network (CNN)** based on the **LeNet-5 architecture**, proposed by Yann LeCun (1998), renowned for its efficiency in small-resolution image classification.\n",
        "\n",
        "The architecture follows this structure:\n",
        "\n",
        "*Input → [[Conv2D → ReLU] × 2 → MaxPool2D → Dropout] × 2 → Flatten → Dense → Dropout → Output*\n",
        "\n",
        "This setup ensures:\n",
        "- **Effective feature extraction:** Convolutional layers detect patterns.\n",
        "- **Dimensionality reduction:** MaxPooling reduces the spatial dimensions.\n",
        "- **Regularization:** Dropout layers prevent overfitting by randomly deactivating neurons during training.\n",
        "\n",
        "**Data Augmentation:**  \n",
        "To enhance the model’s generalization capability, we applied **data augmentation**. Techniques such as:\n",
        "- **Zooming**\n",
        "- **Rotating**\n",
        "- **Flipping**\n",
        "- **Cropping**\n",
        "\n",
        "These transformations artificially expand the dataset, helping the model recognize diverse handwriting styles and reducing the risk of overfitting.\n",
        "\n",
        "**Optimization Strategy:**  \n",
        "- We used **RMSProp** as the optimizer for faster and stable convergence.  \n",
        "- **ReduceLROnPlateau** was applied to dynamically adjust the learning rate, preventing the model from stagnating and improving accuracy.\n",
        "\n",
        "---\n",
        "\n",
        "### 4. Model Fitting\n",
        "\n",
        "The model was trained by fitting the dataset to the CNN architecture, enabling it to learn and minimize error parameters.\n",
        "\n",
        "Since training deep learning models can be time-intensive on a CPU, we enabled **Kaggle’s GPU support** to accelerate the process. This significantly reduced training time and improved computational efficiency.\n",
        "\n",
        "---\n",
        "\n",
        "### 5. Prediction Using Test Data\n",
        "\n",
        "After the model was trained and evaluated, it was used to generate predictions on the test dataset.\n",
        "\n",
        "The predictions were exported to a **CSV file** for submission, providing the final output of classified handwritten digits.\n"
      ]
    },
    {
      "cell_type": "markdown",
      "metadata": {
        "id": "Dvwl4F_LwAkv"
      },
      "source": [
        "## Observations\n",
        "\n",
        "### **Importing Libraries**\n",
        "- All required libraries were successfully imported, including **TensorFlow**, **Keras**, **Pandas**, and **Matplotlib**.  \n",
        "- The environment was set up without any import issues, ensuring a smooth workflow.  \n",
        "\n",
        "### **Preparing the Dataset**\n",
        "- The **MNIST dataset** was successfully loaded and preprocessed.  \n",
        "- The data was split into **training** and **validation** sets to enhance generalization.  \n",
        "- A **countplot** confirmed that the digit classes were evenly distributed.  \n",
        "- No missing values were detected, ensuring data integrity.  \n",
        "- **Normalization** was applied, scaling pixel values from **[0, 255]** to **[0, 1]**, improving the model's training efficiency.  \n",
        "\n",
        "### **Model Building**\n",
        "- The model was built using the **LeNet-5 architecture**, known for its effectiveness in digit recognition.  \n",
        "- The network consisted of:\n",
        "  - **Convolutional layers** for feature extraction.  \n",
        "  - **Pooling layers** for dimensionality reduction.  \n",
        "  - **Dropout layers** to prevent overfitting.  \n",
        "  - A **fully connected output layer** for classification.  \n",
        "- **Data augmentation** was applied, generating variations of existing images to improve the model's generalization.  \n",
        "- The model used the **RMSProp optimizer** for faster convergence and **ReduceLROnPlateau** to dynamically adjust the learning rate, enhancing performance.  \n",
        "\n",
        "### **Model Fitting**\n",
        "- The model was trained on Kaggle with **GPU support enabled**, significantly reducing training time.  \n",
        "- **Loss and accuracy** values progressively improved over the epochs.  \n",
        "- Both training and validation losses were monitored to prevent overfitting and ensure stable learning.  \n",
        "\n",
        "### **Model Analysis**\n",
        "- The **learning curve** indicated a steady decrease in both training and validation losses, reflecting effective model training.  \n",
        "- The **confusion matrix** showed strong classification accuracy across most digit classes, with minimal misclassifications.  \n",
        "- Although the model achieved high accuracy, a few errors highlighted areas for potential improvement.  \n",
        "\n",
        "### **Prediction Using Test Data**\n",
        "- The trained model was applied to the **test dataset** for predictions.  \n",
        "- The predictions were exported to a **CSV file** for competition submission.  \n",
        "- The final model demonstrated high accuracy, with test results closely aligning with the validation performance.  \n"
      ]
    },
    {
      "cell_type": "markdown",
      "metadata": {
        "id": "OEViAe-z0Qbt"
      },
      "source": [
        "## Managerial Insights\n",
        "\n",
        "- **Automation Potential:**  \n",
        "  The CNN model demonstrates **high accuracy** in classifying handwritten digits, making it a practical solution for **automated data entry systems** in banking, postal services, and form digitization. This automation can significantly reduce **manual errors** and processing time.  \n",
        "\n",
        "- **Cost Efficiency:**  \n",
        "  By leveraging **deep learning-based recognition**, organizations can minimize labor costs associated with manual digit transcription. Additionally, **data augmentation** enhances model performance without requiring extensive datasets, reducing data collection expenses.  \n",
        "\n",
        "- **Scalability & Adaptability:**  \n",
        "  The model can be fine-tuned to recognize **characters in different languages and handwriting styles**, making it adaptable for industries such as **finance, healthcare, and government document processing**.  \n",
        "\n",
        "- **Infrastructure & Performance:**  \n",
        "  While CNN models deliver **high accuracy**, they demand substantial **computational resources** (e.g., GPUs). To optimize performance and cost, organizations can adopt **cloud-based AI services** when deploying such models at scale.  \n",
        "\n",
        "- **Error Handling & Continuous Improvement:**  \n",
        "  The **confusion matrix** reveals occasional misclassifications, indicating areas where the model could improve. Incorporating **active learning** and periodically retraining the model with **new data** can enhance its accuracy and reduce biases over time.  \n",
        "\n",
        "- **Strategic Decision-Making:**  \n",
        "  Businesses aiming to implement AI-powered handwriting recognition should evaluate their **data availability, infrastructure, and compliance requirements**. The model’s strong performance highlights a compelling **business case** for adopting AI in process automation.  \n"
      ]
    },
    {
      "cell_type": "markdown",
      "metadata": {
        "id": "zQHYkAoVUMKi"
      },
      "source": [
        "## 1. Importing the Libraries"
      ]
    },
    {
      "cell_type": "code",
      "execution_count": 1,
      "metadata": {
        "colab": {
          "base_uri": "https://localhost:8080/"
        },
        "id": "jo-FRo-cx4IZ",
        "outputId": "fdff9c23-eaad-4825-ef2a-7e545f8525c9"
      },
      "outputs": [
        {
          "output_type": "stream",
          "name": "stdout",
          "text": [
            "Collecting tensorflow\n",
            "  Downloading tensorflow-2.19.0-cp311-cp311-manylinux_2_17_x86_64.manylinux2014_x86_64.whl.metadata (4.1 kB)\n",
            "Requirement already satisfied: absl-py>=1.0.0 in /usr/local/lib/python3.11/dist-packages (from tensorflow) (1.4.0)\n",
            "Collecting astunparse>=1.6.0 (from tensorflow)\n",
            "  Downloading astunparse-1.6.3-py2.py3-none-any.whl.metadata (4.4 kB)\n",
            "Collecting flatbuffers>=24.3.25 (from tensorflow)\n",
            "  Downloading flatbuffers-25.2.10-py2.py3-none-any.whl.metadata (875 bytes)\n",
            "Requirement already satisfied: gast!=0.5.0,!=0.5.1,!=0.5.2,>=0.2.1 in /usr/local/lib/python3.11/dist-packages (from tensorflow) (0.6.0)\n",
            "Collecting google-pasta>=0.1.1 (from tensorflow)\n",
            "  Downloading google_pasta-0.2.0-py3-none-any.whl.metadata (814 bytes)\n",
            "Collecting libclang>=13.0.0 (from tensorflow)\n",
            "  Downloading libclang-18.1.1-py2.py3-none-manylinux2010_x86_64.whl.metadata (5.2 kB)\n",
            "Requirement already satisfied: opt-einsum>=2.3.2 in /usr/local/lib/python3.11/dist-packages (from tensorflow) (3.4.0)\n",
            "Requirement already satisfied: packaging in /usr/local/lib/python3.11/dist-packages (from tensorflow) (24.2)\n",
            "Requirement already satisfied: protobuf!=4.21.0,!=4.21.1,!=4.21.2,!=4.21.3,!=4.21.4,!=4.21.5,<6.0.0dev,>=3.20.3 in /usr/local/lib/python3.11/dist-packages (from tensorflow) (5.29.4)\n",
            "Requirement already satisfied: requests<3,>=2.21.0 in /usr/local/lib/python3.11/dist-packages (from tensorflow) (2.32.3)\n",
            "Requirement already satisfied: setuptools in /usr/local/lib/python3.11/dist-packages (from tensorflow) (75.1.0)\n",
            "Requirement already satisfied: six>=1.12.0 in /usr/local/lib/python3.11/dist-packages (from tensorflow) (1.17.0)\n",
            "Requirement already satisfied: termcolor>=1.1.0 in /usr/local/lib/python3.11/dist-packages (from tensorflow) (2.5.0)\n",
            "Requirement already satisfied: typing-extensions>=3.6.6 in /usr/local/lib/python3.11/dist-packages (from tensorflow) (4.12.2)\n",
            "Requirement already satisfied: wrapt>=1.11.0 in /usr/local/lib/python3.11/dist-packages (from tensorflow) (1.17.2)\n",
            "Requirement already satisfied: grpcio<2.0,>=1.24.3 in /usr/local/lib/python3.11/dist-packages (from tensorflow) (1.71.0)\n",
            "Collecting tensorboard~=2.19.0 (from tensorflow)\n",
            "  Downloading tensorboard-2.19.0-py3-none-any.whl.metadata (1.8 kB)\n",
            "Requirement already satisfied: keras>=3.5.0 in /usr/local/lib/python3.11/dist-packages (from tensorflow) (3.8.0)\n",
            "Requirement already satisfied: numpy<2.2.0,>=1.26.0 in /usr/local/lib/python3.11/dist-packages (from tensorflow) (2.0.2)\n",
            "Requirement already satisfied: h5py>=3.11.0 in /usr/local/lib/python3.11/dist-packages (from tensorflow) (3.13.0)\n",
            "Requirement already satisfied: ml-dtypes<1.0.0,>=0.5.1 in /usr/local/lib/python3.11/dist-packages (from tensorflow) (0.5.1)\n",
            "Collecting tensorflow-io-gcs-filesystem>=0.23.1 (from tensorflow)\n",
            "  Downloading tensorflow_io_gcs_filesystem-0.37.1-cp311-cp311-manylinux_2_17_x86_64.manylinux2014_x86_64.whl.metadata (14 kB)\n",
            "Collecting wheel<1.0,>=0.23.0 (from astunparse>=1.6.0->tensorflow)\n",
            "  Downloading wheel-0.45.1-py3-none-any.whl.metadata (2.3 kB)\n",
            "Requirement already satisfied: rich in /usr/local/lib/python3.11/dist-packages (from keras>=3.5.0->tensorflow) (13.9.4)\n",
            "Requirement already satisfied: namex in /usr/local/lib/python3.11/dist-packages (from keras>=3.5.0->tensorflow) (0.0.8)\n",
            "Requirement already satisfied: optree in /usr/local/lib/python3.11/dist-packages (from keras>=3.5.0->tensorflow) (0.14.1)\n",
            "Requirement already satisfied: charset-normalizer<4,>=2 in /usr/local/lib/python3.11/dist-packages (from requests<3,>=2.21.0->tensorflow) (3.4.1)\n",
            "Requirement already satisfied: idna<4,>=2.5 in /usr/local/lib/python3.11/dist-packages (from requests<3,>=2.21.0->tensorflow) (3.10)\n",
            "Requirement already satisfied: urllib3<3,>=1.21.1 in /usr/local/lib/python3.11/dist-packages (from requests<3,>=2.21.0->tensorflow) (2.3.0)\n",
            "Requirement already satisfied: certifi>=2017.4.17 in /usr/local/lib/python3.11/dist-packages (from requests<3,>=2.21.0->tensorflow) (2025.1.31)\n",
            "Requirement already satisfied: markdown>=2.6.8 in /usr/lib/python3/dist-packages (from tensorboard~=2.19.0->tensorflow) (3.3.6)\n",
            "Collecting tensorboard-data-server<0.8.0,>=0.7.0 (from tensorboard~=2.19.0->tensorflow)\n",
            "  Downloading tensorboard_data_server-0.7.2-py3-none-manylinux_2_31_x86_64.whl.metadata (1.1 kB)\n",
            "Collecting werkzeug>=1.0.1 (from tensorboard~=2.19.0->tensorflow)\n",
            "  Downloading werkzeug-3.1.3-py3-none-any.whl.metadata (3.7 kB)\n",
            "Requirement already satisfied: MarkupSafe>=2.1.1 in /usr/local/lib/python3.11/dist-packages (from werkzeug>=1.0.1->tensorboard~=2.19.0->tensorflow) (3.0.2)\n",
            "Requirement already satisfied: markdown-it-py>=2.2.0 in /usr/local/lib/python3.11/dist-packages (from rich->keras>=3.5.0->tensorflow) (3.0.0)\n",
            "Requirement already satisfied: pygments<3.0.0,>=2.13.0 in /usr/local/lib/python3.11/dist-packages (from rich->keras>=3.5.0->tensorflow) (2.19.1)\n",
            "Requirement already satisfied: mdurl~=0.1 in /usr/local/lib/python3.11/dist-packages (from markdown-it-py>=2.2.0->rich->keras>=3.5.0->tensorflow) (0.1.2)\n",
            "Downloading tensorflow-2.19.0-cp311-cp311-manylinux_2_17_x86_64.manylinux2014_x86_64.whl (644.9 MB)\n",
            "\u001b[2K   \u001b[90m━━━━━━━━━━━━━━━━━━━━━━━━━━━━━━━━━━━━━━━━\u001b[0m \u001b[32m644.9/644.9 MB\u001b[0m \u001b[31m1.4 MB/s\u001b[0m eta \u001b[36m0:00:00\u001b[0m\n",
            "\u001b[?25hDownloading astunparse-1.6.3-py2.py3-none-any.whl (12 kB)\n",
            "Downloading flatbuffers-25.2.10-py2.py3-none-any.whl (30 kB)\n",
            "Downloading google_pasta-0.2.0-py3-none-any.whl (57 kB)\n",
            "\u001b[2K   \u001b[90m━━━━━━━━━━━━━━━━━━━━━━━━━━━━━━━━━━━━━━━━\u001b[0m \u001b[32m57.5/57.5 kB\u001b[0m \u001b[31m4.2 MB/s\u001b[0m eta \u001b[36m0:00:00\u001b[0m\n",
            "\u001b[?25hDownloading libclang-18.1.1-py2.py3-none-manylinux2010_x86_64.whl (24.5 MB)\n",
            "\u001b[2K   \u001b[90m━━━━━━━━━━━━━━━━━━━━━━━━━━━━━━━━━━━━━━━━\u001b[0m \u001b[32m24.5/24.5 MB\u001b[0m \u001b[31m39.0 MB/s\u001b[0m eta \u001b[36m0:00:00\u001b[0m\n",
            "\u001b[?25hDownloading tensorboard-2.19.0-py3-none-any.whl (5.5 MB)\n",
            "\u001b[2K   \u001b[90m━━━━━━━━━━━━━━━━━━━━━━━━━━━━━━━━━━━━━━━━\u001b[0m \u001b[32m5.5/5.5 MB\u001b[0m \u001b[31m89.1 MB/s\u001b[0m eta \u001b[36m0:00:00\u001b[0m\n",
            "\u001b[?25hDownloading tensorflow_io_gcs_filesystem-0.37.1-cp311-cp311-manylinux_2_17_x86_64.manylinux2014_x86_64.whl (5.1 MB)\n",
            "\u001b[2K   \u001b[90m━━━━━━━━━━━━━━━━━━━━━━━━━━━━━━━━━━━━━━━━\u001b[0m \u001b[32m5.1/5.1 MB\u001b[0m \u001b[31m82.3 MB/s\u001b[0m eta \u001b[36m0:00:00\u001b[0m\n",
            "\u001b[?25hDownloading tensorboard_data_server-0.7.2-py3-none-manylinux_2_31_x86_64.whl (6.6 MB)\n",
            "\u001b[2K   \u001b[90m━━━━━━━━━━━━━━━━━━━━━━━━━━━━━━━━━━━━━━━━\u001b[0m \u001b[32m6.6/6.6 MB\u001b[0m \u001b[31m71.7 MB/s\u001b[0m eta \u001b[36m0:00:00\u001b[0m\n",
            "\u001b[?25hDownloading werkzeug-3.1.3-py3-none-any.whl (224 kB)\n",
            "\u001b[2K   \u001b[90m━━━━━━━━━━━━━━━━━━━━━━━━━━━━━━━━━━━━━━━━\u001b[0m \u001b[32m224.5/224.5 kB\u001b[0m \u001b[31m15.2 MB/s\u001b[0m eta \u001b[36m0:00:00\u001b[0m\n",
            "\u001b[?25hDownloading wheel-0.45.1-py3-none-any.whl (72 kB)\n",
            "\u001b[2K   \u001b[90m━━━━━━━━━━━━━━━━━━━━━━━━━━━━━━━━━━━━━━━━\u001b[0m \u001b[32m72.5/72.5 kB\u001b[0m \u001b[31m3.4 MB/s\u001b[0m eta \u001b[36m0:00:00\u001b[0m\n",
            "\u001b[?25hInstalling collected packages: libclang, flatbuffers, wheel, werkzeug, tensorflow-io-gcs-filesystem, tensorboard-data-server, google-pasta, tensorboard, astunparse, tensorflow\n",
            "Successfully installed astunparse-1.6.3 flatbuffers-25.2.10 google-pasta-0.2.0 libclang-18.1.1 tensorboard-2.19.0 tensorboard-data-server-0.7.2 tensorflow-2.19.0 tensorflow-io-gcs-filesystem-0.37.1 werkzeug-3.1.3 wheel-0.45.1\n"
          ]
        }
      ],
      "source": [
        "!pip install tensorflow"
      ]
    },
    {
      "cell_type": "code",
      "execution_count": 2,
      "metadata": {
        "colab": {
          "base_uri": "https://localhost:8080/"
        },
        "id": "LYlQnHuARMFQ",
        "outputId": "ce2051e2-80d8-4fe2-f3f3-54333b739ce8"
      },
      "outputs": [
        {
          "output_type": "stream",
          "name": "stdout",
          "text": [
            "TensorFlow Version:   2.19.0\n",
            "Keras Version:   3.8.0\n"
          ]
        }
      ],
      "source": [
        "# Importing Tensorflow and keras\n",
        "\n",
        "import tensorflow as tf\n",
        "from tensorflow.keras import layers\n",
        "from tensorflow.keras.preprocessing.image import ImageDataGenerator\n",
        "import pandas as pd\n",
        "import numpy as np\n",
        "import seaborn as sns\n",
        "import matplotlib.pyplot as plt\n",
        "import matplotlib.image as img\n",
        "%matplotlib inline\n",
        "\n",
        "from sklearn.model_selection import train_test_split\n",
        "from sklearn.metrics import confusion_matrix\n",
        "import itertools\n",
        "\n",
        "#Tensorflow Version\n",
        "print(\"TensorFlow Version:   \"+tf.version.VERSION)\n",
        "print(\"Keras Version:   \"+tf.keras.__version__)"
      ]
    },
    {
      "cell_type": "markdown",
      "metadata": {
        "id": "WEPDqrJLUWEi"
      },
      "source": [
        "## 2. Preparing the Dataset"
      ]
    },
    {
      "cell_type": "code",
      "execution_count": 8,
      "metadata": {
        "colab": {
          "base_uri": "https://localhost:8080/"
        },
        "id": "B5stZ8PVLQ3w",
        "outputId": "a7935bd1-643e-4ce9-d0f2-4193e4df9a65"
      },
      "outputs": [
        {
          "output_type": "stream",
          "name": "stdout",
          "text": [
            "Requirement already satisfied: gdown in /usr/local/lib/python3.11/dist-packages (5.2.0)\n",
            "Requirement already satisfied: beautifulsoup4 in /usr/local/lib/python3.11/dist-packages (from gdown) (4.13.3)\n",
            "Requirement already satisfied: filelock in /usr/local/lib/python3.11/dist-packages (from gdown) (3.18.0)\n",
            "Requirement already satisfied: requests[socks] in /usr/local/lib/python3.11/dist-packages (from gdown) (2.32.3)\n",
            "Requirement already satisfied: tqdm in /usr/local/lib/python3.11/dist-packages (from gdown) (4.67.1)\n",
            "Requirement already satisfied: soupsieve>1.2 in /usr/local/lib/python3.11/dist-packages (from beautifulsoup4->gdown) (2.6)\n",
            "Requirement already satisfied: typing-extensions>=4.0.0 in /usr/local/lib/python3.11/dist-packages (from beautifulsoup4->gdown) (4.12.2)\n",
            "Requirement already satisfied: charset-normalizer<4,>=2 in /usr/local/lib/python3.11/dist-packages (from requests[socks]->gdown) (3.4.1)\n",
            "Requirement already satisfied: idna<4,>=2.5 in /usr/local/lib/python3.11/dist-packages (from requests[socks]->gdown) (3.10)\n",
            "Requirement already satisfied: urllib3<3,>=1.21.1 in /usr/local/lib/python3.11/dist-packages (from requests[socks]->gdown) (2.3.0)\n",
            "Requirement already satisfied: certifi>=2017.4.17 in /usr/local/lib/python3.11/dist-packages (from requests[socks]->gdown) (2025.1.31)\n",
            "Requirement already satisfied: PySocks!=1.5.7,>=1.5.6 in /usr/local/lib/python3.11/dist-packages (from requests[socks]->gdown) (1.7.1)\n",
            "Downloading...\n",
            "From: https://drive.google.com/uc?id=1AtNUBic84CAwFwBNGt8kIJ9sgaNxK-mX\n",
            "To: /content/mnist_train.csv\n",
            "100% 76.8M/76.8M [00:00<00:00, 103MB/s]\n",
            "File imported successfully\n"
          ]
        }
      ],
      "source": [
        "# Train Data\n",
        "\n",
        "import pandas as pd\n",
        "!pip install gdown\n",
        "!gdown 1AtNUBic84CAwFwBNGt8kIJ9sgaNxK-mX\n",
        "\n",
        "try:\n",
        "  ac07train = pd.read_csv(\"mnist_train.csv\")\n",
        "  print(\"File imported successfully\")\n",
        "except FileNotFoundError:\n",
        "  print(\"File not found.\")"
      ]
    },
    {
      "cell_type": "code",
      "execution_count": 9,
      "metadata": {
        "colab": {
          "base_uri": "https://localhost:8080/"
        },
        "id": "9RTsfWNpJp7b",
        "outputId": "757769af-ba7f-4c06-c7b8-ee42aae75145"
      },
      "outputs": [
        {
          "output_type": "stream",
          "name": "stdout",
          "text": [
            "Requirement already satisfied: gdown in /usr/local/lib/python3.11/dist-packages (5.2.0)\n",
            "Requirement already satisfied: beautifulsoup4 in /usr/local/lib/python3.11/dist-packages (from gdown) (4.13.3)\n",
            "Requirement already satisfied: filelock in /usr/local/lib/python3.11/dist-packages (from gdown) (3.18.0)\n",
            "Requirement already satisfied: requests[socks] in /usr/local/lib/python3.11/dist-packages (from gdown) (2.32.3)\n",
            "Requirement already satisfied: tqdm in /usr/local/lib/python3.11/dist-packages (from gdown) (4.67.1)\n",
            "Requirement already satisfied: soupsieve>1.2 in /usr/local/lib/python3.11/dist-packages (from beautifulsoup4->gdown) (2.6)\n",
            "Requirement already satisfied: typing-extensions>=4.0.0 in /usr/local/lib/python3.11/dist-packages (from beautifulsoup4->gdown) (4.12.2)\n",
            "Requirement already satisfied: charset-normalizer<4,>=2 in /usr/local/lib/python3.11/dist-packages (from requests[socks]->gdown) (3.4.1)\n",
            "Requirement already satisfied: idna<4,>=2.5 in /usr/local/lib/python3.11/dist-packages (from requests[socks]->gdown) (3.10)\n",
            "Requirement already satisfied: urllib3<3,>=1.21.1 in /usr/local/lib/python3.11/dist-packages (from requests[socks]->gdown) (2.3.0)\n",
            "Requirement already satisfied: certifi>=2017.4.17 in /usr/local/lib/python3.11/dist-packages (from requests[socks]->gdown) (2025.1.31)\n",
            "Requirement already satisfied: PySocks!=1.5.7,>=1.5.6 in /usr/local/lib/python3.11/dist-packages (from requests[socks]->gdown) (1.7.1)\n",
            "Downloading...\n",
            "From: https://drive.google.com/uc?id=1M2B6nkqNZ6jsjmYqoZol60O5jBshrryi\n",
            "To: /content/test.csv\n",
            "100% 51.1M/51.1M [00:00<00:00, 62.7MB/s]\n",
            "File imported successfully\n"
          ]
        }
      ],
      "source": [
        "# Test Data\n",
        "\n",
        "!pip install gdown\n",
        "\n",
        "!gdown 1M2B6nkqNZ6jsjmYqoZol60O5jBshrryi\n",
        "\n",
        "try:\n",
        "  ac07test = pd.read_csv(\"test.csv\")\n",
        "  print(\"File imported successfully\")\n",
        "except FileNotFoundError:\n",
        "  print(\"File not found.\")"
      ]
    },
    {
      "cell_type": "code",
      "execution_count": 10,
      "metadata": {
        "colab": {
          "base_uri": "https://localhost:8080/",
          "height": 429
        },
        "id": "05yoL078UJIp",
        "outputId": "fd89a168-63f7-4049-bce5-e891b240602d"
      },
      "outputs": [
        {
          "output_type": "execute_result",
          "data": {
            "text/plain": [
              "label\n",
              "1    4684\n",
              "7    4401\n",
              "3    4351\n",
              "9    4188\n",
              "2    4177\n",
              "6    4137\n",
              "0    4132\n",
              "4    4072\n",
              "8    4063\n",
              "5    3795\n",
              "Name: count, dtype: int64"
            ],
            "text/html": [
              "<div>\n",
              "<style scoped>\n",
              "    .dataframe tbody tr th:only-of-type {\n",
              "        vertical-align: middle;\n",
              "    }\n",
              "\n",
              "    .dataframe tbody tr th {\n",
              "        vertical-align: top;\n",
              "    }\n",
              "\n",
              "    .dataframe thead th {\n",
              "        text-align: right;\n",
              "    }\n",
              "</style>\n",
              "<table border=\"1\" class=\"dataframe\">\n",
              "  <thead>\n",
              "    <tr style=\"text-align: right;\">\n",
              "      <th></th>\n",
              "      <th>count</th>\n",
              "    </tr>\n",
              "    <tr>\n",
              "      <th>label</th>\n",
              "      <th></th>\n",
              "    </tr>\n",
              "  </thead>\n",
              "  <tbody>\n",
              "    <tr>\n",
              "      <th>1</th>\n",
              "      <td>4684</td>\n",
              "    </tr>\n",
              "    <tr>\n",
              "      <th>7</th>\n",
              "      <td>4401</td>\n",
              "    </tr>\n",
              "    <tr>\n",
              "      <th>3</th>\n",
              "      <td>4351</td>\n",
              "    </tr>\n",
              "    <tr>\n",
              "      <th>9</th>\n",
              "      <td>4188</td>\n",
              "    </tr>\n",
              "    <tr>\n",
              "      <th>2</th>\n",
              "      <td>4177</td>\n",
              "    </tr>\n",
              "    <tr>\n",
              "      <th>6</th>\n",
              "      <td>4137</td>\n",
              "    </tr>\n",
              "    <tr>\n",
              "      <th>0</th>\n",
              "      <td>4132</td>\n",
              "    </tr>\n",
              "    <tr>\n",
              "      <th>4</th>\n",
              "      <td>4072</td>\n",
              "    </tr>\n",
              "    <tr>\n",
              "      <th>8</th>\n",
              "      <td>4063</td>\n",
              "    </tr>\n",
              "    <tr>\n",
              "      <th>5</th>\n",
              "      <td>3795</td>\n",
              "    </tr>\n",
              "  </tbody>\n",
              "</table>\n",
              "</div><br><label><b>dtype:</b> int64</label>"
            ]
          },
          "metadata": {},
          "execution_count": 10
        }
      ],
      "source": [
        "Y_ac07train = ac07train['label']\n",
        "\n",
        "#Dropping Label Column\n",
        "X_ac07train = ac07train.drop(labels=['label'],axis=1)\n",
        "\n",
        "#free up some space\n",
        "del ac07train\n",
        "\n",
        "Y_ac07train.value_counts()"
      ]
    },
    {
      "cell_type": "code",
      "execution_count": 11,
      "metadata": {
        "colab": {
          "base_uri": "https://localhost:8080/",
          "height": 209
        },
        "id": "jGSazKXLXRtA",
        "outputId": "92ff3bfd-44e5-4fed-ba3f-4232e12b5f8c"
      },
      "outputs": [
        {
          "output_type": "execute_result",
          "data": {
            "text/plain": [
              "count       784\n",
              "unique        1\n",
              "top       False\n",
              "freq        784\n",
              "dtype: object"
            ],
            "text/html": [
              "<div>\n",
              "<style scoped>\n",
              "    .dataframe tbody tr th:only-of-type {\n",
              "        vertical-align: middle;\n",
              "    }\n",
              "\n",
              "    .dataframe tbody tr th {\n",
              "        vertical-align: top;\n",
              "    }\n",
              "\n",
              "    .dataframe thead th {\n",
              "        text-align: right;\n",
              "    }\n",
              "</style>\n",
              "<table border=\"1\" class=\"dataframe\">\n",
              "  <thead>\n",
              "    <tr style=\"text-align: right;\">\n",
              "      <th></th>\n",
              "      <th>0</th>\n",
              "    </tr>\n",
              "  </thead>\n",
              "  <tbody>\n",
              "    <tr>\n",
              "      <th>count</th>\n",
              "      <td>784</td>\n",
              "    </tr>\n",
              "    <tr>\n",
              "      <th>unique</th>\n",
              "      <td>1</td>\n",
              "    </tr>\n",
              "    <tr>\n",
              "      <th>top</th>\n",
              "      <td>False</td>\n",
              "    </tr>\n",
              "    <tr>\n",
              "      <th>freq</th>\n",
              "      <td>784</td>\n",
              "    </tr>\n",
              "  </tbody>\n",
              "</table>\n",
              "</div><br><label><b>dtype:</b> object</label>"
            ]
          },
          "metadata": {},
          "execution_count": 11
        }
      ],
      "source": [
        "#Checking for any null or missing values\n",
        "X_ac07train.isnull().any().describe()"
      ]
    },
    {
      "cell_type": "code",
      "execution_count": 12,
      "metadata": {
        "colab": {
          "base_uri": "https://localhost:8080/",
          "height": 209
        },
        "id": "U3_xptjfNMPb",
        "outputId": "0827691c-8275-4b55-80f6-1c141b57908f"
      },
      "outputs": [
        {
          "output_type": "execute_result",
          "data": {
            "text/plain": [
              "count       784\n",
              "unique        1\n",
              "top       False\n",
              "freq        784\n",
              "dtype: object"
            ],
            "text/html": [
              "<div>\n",
              "<style scoped>\n",
              "    .dataframe tbody tr th:only-of-type {\n",
              "        vertical-align: middle;\n",
              "    }\n",
              "\n",
              "    .dataframe tbody tr th {\n",
              "        vertical-align: top;\n",
              "    }\n",
              "\n",
              "    .dataframe thead th {\n",
              "        text-align: right;\n",
              "    }\n",
              "</style>\n",
              "<table border=\"1\" class=\"dataframe\">\n",
              "  <thead>\n",
              "    <tr style=\"text-align: right;\">\n",
              "      <th></th>\n",
              "      <th>0</th>\n",
              "    </tr>\n",
              "  </thead>\n",
              "  <tbody>\n",
              "    <tr>\n",
              "      <th>count</th>\n",
              "      <td>784</td>\n",
              "    </tr>\n",
              "    <tr>\n",
              "      <th>unique</th>\n",
              "      <td>1</td>\n",
              "    </tr>\n",
              "    <tr>\n",
              "      <th>top</th>\n",
              "      <td>False</td>\n",
              "    </tr>\n",
              "    <tr>\n",
              "      <th>freq</th>\n",
              "      <td>784</td>\n",
              "    </tr>\n",
              "  </tbody>\n",
              "</table>\n",
              "</div><br><label><b>dtype:</b> object</label>"
            ]
          },
          "metadata": {},
          "execution_count": 12
        }
      ],
      "source": [
        "ac07test.isnull().any().describe()"
      ]
    },
    {
      "cell_type": "markdown",
      "metadata": {
        "id": "xJQsCTooXv1X"
      },
      "source": [
        "### Normalisation"
      ]
    },
    {
      "cell_type": "code",
      "execution_count": 13,
      "metadata": {
        "id": "pTFl1nLqXpSy"
      },
      "outputs": [],
      "source": [
        "X_ac07train = X_ac07train/255\n",
        "ac07test = ac07test/255"
      ]
    },
    {
      "cell_type": "markdown",
      "metadata": {
        "id": "0Lx2A8K8YAKn"
      },
      "source": [
        "### Reshape\n",
        "The array of pixel values are reshaped into a (28,28,1) matrix. We are feeding the CNN model with input_shape of 28x28x1 matrix."
      ]
    },
    {
      "cell_type": "code",
      "execution_count": 14,
      "metadata": {
        "id": "RgJra9a4X9U1"
      },
      "outputs": [],
      "source": [
        "X_ac07train = X_ac07train.values.reshape(-1,28,28,1)"
      ]
    },
    {
      "cell_type": "code",
      "execution_count": 15,
      "metadata": {
        "id": "wVu2fuihYXi7"
      },
      "outputs": [],
      "source": [
        "ac07test = ac07test.values.reshape(-1,28,28,1)"
      ]
    },
    {
      "cell_type": "markdown",
      "metadata": {
        "id": "GSbzJTHlYkhS"
      },
      "source": [
        "### Label Encoding"
      ]
    },
    {
      "cell_type": "code",
      "execution_count": 16,
      "metadata": {
        "id": "U7DvS95KYrVa"
      },
      "outputs": [],
      "source": [
        "Y_ac07train = tf.keras.utils.to_categorical(Y_ac07train, num_classes=10)\n",
        "#To enable label into hot vector. For Eg.7 -> [0,0,0,0,0,0,0,1,0,0]"
      ]
    },
    {
      "cell_type": "markdown",
      "metadata": {
        "id": "z_6i2uEqsOCE"
      },
      "source": [
        "### Train and Validation Data Split\n"
      ]
    },
    {
      "cell_type": "code",
      "execution_count": 17,
      "metadata": {
        "id": "UUBksBY12L8V"
      },
      "outputs": [],
      "source": [
        "#Spliting ac07train\n",
        "X_ac07train,X_val,Y_ac07train,Y_val = train_test_split(X_ac07train,Y_ac07train,test_size=0.1,\n",
        "                                                random_state = 55007)"
      ]
    },
    {
      "cell_type": "code",
      "execution_count": 18,
      "metadata": {
        "colab": {
          "base_uri": "https://localhost:8080/",
          "height": 430
        },
        "id": "KVNgcZ5F3Ap5",
        "outputId": "d53509e8-7a98-40cd-ec75-a0f157b2418d"
      },
      "outputs": [
        {
          "output_type": "display_data",
          "data": {
            "text/plain": [
              "<Figure size 640x480 with 1 Axes>"
            ],
            "image/png": "[encoded data removed]"
          },
          "metadata": {}
        }
      ],
      "source": [
        "#An image sample\n",
        "\n",
        "g = plt.imshow(X_ac07train[0][:,:,0])"
      ]
    },
    {
      "cell_type": "markdown",
      "metadata": {
        "id": "tU1XRCKr3e0n"
      },
      "source": [
        "## 3. Model Building"
      ]
    },
    {
      "cell_type": "code",
      "execution_count": 19,
      "metadata": {
        "colab": {
          "base_uri": "https://localhost:8080/"
        },
        "id": "kpkANohy3TaJ",
        "outputId": "e3f339ba-e47d-480e-e493-0eafdd472ef1"
      },
      "outputs": [
        {
          "output_type": "stream",
          "name": "stderr",
          "text": [
            "/usr/local/lib/python3.11/dist-packages/keras/src/layers/convolutional/base_conv.py:107: UserWarning: Do not pass an `input_shape`/`input_dim` argument to a layer. When using Sequential models, prefer using an `Input(shape)` object as the first layer in the model instead.\n",
            "  super().__init__(activity_regularizer=activity_regularizer, **kwargs)\n"
          ]
        }
      ],
      "source": [
        "#CNN Architecture is In -> [[Conv2D->relu]*2 -> MaxPool2D -> Dropout]*2 ->\n",
        "                           #Flatten -> Dense -> Dropout -> Out\n",
        "model = tf.keras.Sequential()\n",
        "\n",
        "model.add(layers.Conv2D(filters=32, kernel_size=(5,5), padding='Same',\n",
        "                       activation=tf.nn.relu, input_shape = (28,28,1)))\n",
        "model.add(layers.Conv2D(filters=32, kernel_size=(5,5), padding='Same',\n",
        "                       activation=tf.nn.relu))\n",
        "model.add(layers.MaxPool2D(pool_size=(2,2)))\n",
        "model.add(layers.Dropout(0.25))\n",
        "\n",
        "\n",
        "model.add(layers.Conv2D(filters=64, kernel_size=(3,3), padding='Same',\n",
        "                       activation=tf.nn.relu, input_shape = (28,28,1)))\n",
        "model.add(layers.Conv2D(filters=64, kernel_size=(3,3), padding='Same',\n",
        "                       activation=tf.nn.relu))\n",
        "model.add(layers.MaxPool2D(pool_size=(2,2),strides=(2,2)))\n",
        "model.add(layers.Dropout(0.25))\n",
        "\n",
        "model.add(layers.Flatten())\n",
        "model.add(layers.Dense(256,activation=tf.nn.relu))\n",
        "model.add(layers.Dropout(0.25))\n",
        "model.add(layers.Dense(10,activation=tf.nn.softmax))"
      ]
    },
    {
      "cell_type": "code",
      "execution_count": 20,
      "metadata": {
        "id": "VuN1-e0uPCWy"
      },
      "outputs": [],
      "source": [
        "ac07_optimizer = tf.keras.optimizers.RMSprop(learning_rate=0.001, rho=0.9, epsilon=1e-08)"
      ]
    },
    {
      "cell_type": "code",
      "execution_count": 21,
      "metadata": {
        "id": "wiwSpyiYPcIb"
      },
      "outputs": [],
      "source": [
        "#Compiling Model\n",
        "\n",
        "model.compile(optimizer = ac07_optimizer, loss='categorical_crossentropy',\n",
        "             metrics=[\"accuracy\"])"
      ]
    },
    {
      "cell_type": "code",
      "execution_count": 22,
      "metadata": {
        "id": "FqExgW5DQoab"
      },
      "outputs": [],
      "source": [
        "#Setting Learning rate annealer\n",
        "\n",
        "learning_rate_reduction = tf.keras.callbacks.ReduceLROnPlateau(monitor='val_acc',\n",
        "                                           patience=3,\n",
        "                                           verbose=1,\n",
        "                                           factor=0.5,\n",
        "                                           min_lr=0.00001)"
      ]
    },
    {
      "cell_type": "code",
      "execution_count": 23,
      "metadata": {
        "id": "VpoFy1wQRJf8"
      },
      "outputs": [],
      "source": [
        "ac07_epochs=10\n",
        "ac07_batch_size = 112"
      ]
    },
    {
      "cell_type": "code",
      "execution_count": 24,
      "metadata": {
        "id": "lTi2iTMKROwt"
      },
      "outputs": [],
      "source": [
        "datagen = ImageDataGenerator(\n",
        "        featurewise_center=False,  # set input mean to 0 over the dataset\n",
        "        samplewise_center=False,  # set each sample mean to 0\n",
        "        featurewise_std_normalization=False,  # divide inputs by std of the dataset\n",
        "        samplewise_std_normalization=False,  # divide each input by its std\n",
        "        zca_whitening=False,  # apply ZCA whitening\n",
        "        rotation_range=10,  # randomly rotate images in the range (degrees, 0 to 180)\n",
        "        zoom_range = 0.1, # Randomly zoom image\n",
        "        width_shift_range=0.1,  # randomly shift images horizontally (fraction of total width)\n",
        "        height_shift_range=0.1,  # randomly shift images vertically (fraction of total height)\n",
        "        horizontal_flip=False,  # randomly flip images\n",
        "        vertical_flip=False)  # randomly flip images\n",
        "\n",
        "\n",
        "datagen.fit(X_ac07train)"
      ]
    },
    {
      "cell_type": "markdown",
      "metadata": {
        "id": "qkX93W-P4iYl"
      },
      "source": [
        "## 4. Model Fitting"
      ]
    },
    {
      "cell_type": "code",
      "execution_count": 25,
      "metadata": {
        "colab": {
          "base_uri": "https://localhost:8080/"
        },
        "id": "X_KVwvvusOCG",
        "outputId": "5bbae9bb-9be2-48da-8bb5-c182e436cea1"
      },
      "outputs": [
        {
          "output_type": "stream",
          "name": "stdout",
          "text": [
            "CUDA Available.\n"
          ]
        }
      ],
      "source": [
        "if(tf.test.is_built_with_cuda() == True):\n",
        "    print(\"CUDA Available.\")\n",
        "else:\n",
        "    print(\"CUDA not Available.\")"
      ]
    },
    {
      "cell_type": "code",
      "execution_count": 26,
      "metadata": {
        "colab": {
          "base_uri": "https://localhost:8080/"
        },
        "id": "BYvD4vpOz3_L",
        "outputId": "07e34ef1-4b6b-4a26-dbef-3104d240ebb1"
      },
      "outputs": [
        {
          "output_type": "stream",
          "name": "stdout",
          "text": [
            "Epoch 1/10\n"
          ]
        },
        {
          "output_type": "stream",
          "name": "stderr",
          "text": [
            "/usr/local/lib/python3.11/dist-packages/keras/src/trainers/data_adapters/py_dataset_adapter.py:121: UserWarning: Your `PyDataset` class should call `super().__init__(**kwargs)` in its constructor. `**kwargs` can include `workers`, `use_multiprocessing`, `max_queue_size`. Do not pass these arguments to `fit()`, as they will be ignored.\n",
            "  self._warn_if_super_not_called()\n"
          ]
        },
        {
          "output_type": "stream",
          "name": "stdout",
          "text": [
            "337/337 - 173s - 513ms/step - accuracy: 0.8678 - loss: 0.4159 - val_accuracy: 0.9848 - val_loss: 0.0438 - learning_rate: 1.0000e-03\n",
            "Epoch 2/10\n"
          ]
        },
        {
          "output_type": "stream",
          "name": "stderr",
          "text": [
            "/usr/local/lib/python3.11/dist-packages/keras/src/callbacks/callback_list.py:145: UserWarning: Learning rate reduction is conditioned on metric `val_acc` which is not available. Available metrics are: accuracy,loss,val_accuracy,val_loss,learning_rate.\n",
            "  callback.on_epoch_end(epoch, logs)\n",
            "/usr/local/lib/python3.11/dist-packages/keras/src/trainers/epoch_iterator.py:107: UserWarning: Your input ran out of data; interrupting training. Make sure that your dataset or generator can generate at least `steps_per_epoch * epochs` batches. You may need to use the `.repeat()` function when building your dataset.\n",
            "  self._interrupted_warning()\n"
          ]
        },
        {
          "output_type": "stream",
          "name": "stdout",
          "text": [
            "337/337 - 5s - 16ms/step - accuracy: 0.9911 - loss: 0.0398 - val_accuracy: 0.9852 - val_loss: 0.0435 - learning_rate: 1.0000e-03\n",
            "Epoch 3/10\n",
            "337/337 - 169s - 500ms/step - accuracy: 0.9651 - loss: 0.1149 - val_accuracy: 0.9855 - val_loss: 0.0459 - learning_rate: 1.0000e-03\n",
            "Epoch 4/10\n",
            "337/337 - 5s - 16ms/step - accuracy: 0.9643 - loss: 0.1352 - val_accuracy: 0.9905 - val_loss: 0.0339 - learning_rate: 1.0000e-03\n",
            "Epoch 5/10\n",
            "337/337 - 167s - 495ms/step - accuracy: 0.9751 - loss: 0.0818 - val_accuracy: 0.9902 - val_loss: 0.0270 - learning_rate: 1.0000e-03\n",
            "Epoch 6/10\n",
            "337/337 - 5s - 16ms/step - accuracy: 0.9643 - loss: 0.0961 - val_accuracy: 0.9919 - val_loss: 0.0284 - learning_rate: 1.0000e-03\n",
            "Epoch 7/10\n",
            "337/337 - 166s - 491ms/step - accuracy: 0.9802 - loss: 0.0642 - val_accuracy: 0.9914 - val_loss: 0.0229 - learning_rate: 1.0000e-03\n",
            "Epoch 8/10\n",
            "337/337 - 5s - 16ms/step - accuracy: 0.9911 - loss: 0.0153 - val_accuracy: 0.9931 - val_loss: 0.0204 - learning_rate: 1.0000e-03\n",
            "Epoch 9/10\n",
            "337/337 - 168s - 499ms/step - accuracy: 0.9824 - loss: 0.0582 - val_accuracy: 0.9950 - val_loss: 0.0191 - learning_rate: 1.0000e-03\n",
            "Epoch 10/10\n",
            "337/337 - 5s - 16ms/step - accuracy: 0.9911 - loss: 0.0236 - val_accuracy: 0.9938 - val_loss: 0.0211 - learning_rate: 1.0000e-03\n"
          ]
        }
      ],
      "source": [
        "#Fitting the model\n",
        "# Commenting it since no need to run it again\n",
        "\n",
        "history = model.fit(datagen.flow(X_ac07train, Y_ac07train, batch_size=ac07_batch_size),\n",
        "                    epochs=ac07_epochs,\n",
        "                    validation_data=(X_val, Y_val),\n",
        "                    verbose=2,\n",
        "                    steps_per_epoch=X_ac07train.shape[0] // ac07_batch_size,\n",
        "                    callbacks=[learning_rate_reduction])\n"
      ]
    },
    {
      "cell_type": "code",
      "execution_count": 27,
      "metadata": {
        "id": "5zyvqJu6I16Y"
      },
      "outputs": [],
      "source": [
        "# Saving the model for further faster processing\n",
        "\n",
        "model.save(\"CNNmodel.keras\", include_optimizer = True)"
      ]
    },
    {
      "cell_type": "code",
      "execution_count": 28,
      "metadata": {
        "id": "K2w2icoyI9b1"
      },
      "outputs": [],
      "source": [
        "from tensorflow.keras.models import load_model\n",
        "\n",
        "# Define a custom object to map 'softmax_v2' to 'softmax'\n",
        "custom_objects = {'softmax_v2': tf.keras.activations.softmax}\n",
        "cnn_model = load_model(\"CNNmodel.keras\", custom_objects=custom_objects)"
      ]
    },
    {
      "cell_type": "markdown",
      "metadata": {
        "id": "J2i6erFdsOCG"
      },
      "source": [
        "## 5. Analyzing the model"
      ]
    },
    {
      "cell_type": "code",
      "execution_count": 29,
      "metadata": {
        "colab": {
          "base_uri": "https://localhost:8080/",
          "height": 607
        },
        "id": "PMKZhU75z-b6",
        "outputId": "b9066520-e73f-4915-904e-a691b16ca3a9"
      },
      "outputs": [
        {
          "output_type": "display_data",
          "data": {
            "text/plain": [
              "<Figure size 800x600 with 2 Axes>"
            ],
            "image/png": "[encoded data removed]"
          },
          "metadata": {}
        }
      ],
      "source": [
        "# The loss and accuracy curves for training and validation\n",
        "\n",
        "fig, ax = plt.subplots(2, 1, figsize=(8, 6))\n",
        "ax[0].plot(history.history['loss'], color='b', label=\"Training Loss\")\n",
        "ax[0].plot(history.history['val_loss'], color='r', label=\"Validation Loss\")\n",
        "ax[0].legend(loc='best', shadow=True)\n",
        "ax[0].set_title('Loss Curves')\n",
        "\n",
        "ax[1].plot(history.history['accuracy'], color='b', label=\"Training Accuracy\")\n",
        "ax[1].plot(history.history['val_accuracy'], color='r', label=\"Validation Accuracy\")\n",
        "ax[1].legend(loc='best', shadow=True)\n",
        "ax[1].set_title('Accuracy Curves')\n",
        "\n",
        "plt.tight_layout()\n",
        "plt.show()\n"
      ]
    },
    {
      "cell_type": "code",
      "execution_count": 30,
      "metadata": {
        "colab": {
          "base_uri": "https://localhost:8080/",
          "height": 523
        },
        "id": "IK6-TyagG4G4",
        "outputId": "74d8bdcd-c617-4e54-d585-66a0bd4f64f0"
      },
      "outputs": [
        {
          "output_type": "stream",
          "name": "stdout",
          "text": [
            "\u001b[1m132/132\u001b[0m \u001b[32m━━━━━━━━━━━━━━━━━━━━\u001b[0m\u001b[37m\u001b[0m \u001b[1m5s\u001b[0m 37ms/step\n"
          ]
        },
        {
          "output_type": "display_data",
          "data": {
            "text/plain": [
              "<Figure size 640x480 with 2 Axes>"
            ],
            "image/png": "[encoded data removed]"
          },
          "metadata": {}
        }
      ],
      "source": [
        "# plotting confussion matrix\n",
        "\n",
        "def plot_confusion_matrix(cm, classes,\n",
        "                          normalize=False,\n",
        "                          title='Confusion matrix',\n",
        "                          cmap=plt.cm.Blues):\n",
        "    \"\"\"\n",
        "    This function prints and plots the confusion matrix.\n",
        "    Normalization can be applied by setting `normalize=True`.\n",
        "    \"\"\"\n",
        "    plt.imshow(cm, interpolation='nearest', cmap=cmap)\n",
        "    plt.title(title)\n",
        "    plt.colorbar()\n",
        "    tick_marks = np.arange(len(classes))\n",
        "    plt.xticks(tick_marks, classes, rotation=45)\n",
        "    plt.yticks(tick_marks, classes)\n",
        "\n",
        "    if normalize:\n",
        "        cm = cm.astype('float') / cm.sum(axis=1)[:, np.newaxis]\n",
        "\n",
        "    thresh = cm.max() / 2.\n",
        "    for i, j in itertools.product(range(cm.shape[0]), range(cm.shape[1])):\n",
        "        plt.text(j, i, cm[i, j],\n",
        "                 horizontalalignment=\"center\",\n",
        "                 color=\"white\" if cm[i, j] > thresh else \"black\")\n",
        "\n",
        "    plt.tight_layout()\n",
        "    plt.ylabel('True label')\n",
        "    plt.xlabel('Predicted label')\n",
        "\n",
        "# Predict the values from the validation dataset\n",
        "Y_pred = model.predict(X_val)\n",
        "# Convert predictions classes to one hot vectors\n",
        "Y_pred_classes = np.argmax(Y_pred,axis = 1)\n",
        "# Convert validation observations to one hot vectors\n",
        "Y_true = np.argmax(Y_val,axis = 1)\n",
        "# compute the confusion matrix\n",
        "confusion_mtx = confusion_matrix(Y_true, Y_pred_classes)\n",
        "# plot the confusion matrix\n",
        "plot_confusion_matrix(confusion_mtx, classes = range(10))"
      ]
    },
    {
      "cell_type": "markdown",
      "metadata": {
        "id": "5A6DRczwsOCH"
      },
      "source": [
        "### Important Error"
      ]
    },
    {
      "cell_type": "code",
      "execution_count": 31,
      "metadata": {
        "colab": {
          "base_uri": "https://localhost:8080/",
          "height": 430
        },
        "id": "tV4wnLTQG4G8",
        "outputId": "405fbbb6-8a44-4816-99c9-246279cfc417"
      },
      "outputs": [
        {
          "output_type": "display_data",
          "data": {
            "text/plain": [
              "<Figure size 640x480 with 6 Axes>"
            ],
            "image/png": "[encoded data removed]"
          },
          "metadata": {}
        }
      ],
      "source": [
        "# Errors are difference between predicted labels and true labels\n",
        "errors = (Y_pred_classes - Y_true != 0)\n",
        "\n",
        "Y_pred_classes_errors = Y_pred_classes[errors]\n",
        "Y_pred_errors = Y_pred[errors]\n",
        "Y_true_errors = Y_true[errors]\n",
        "X_val_errors = X_val[errors]\n",
        "\n",
        "def display_errors(errors_index,img_errors,pred_errors, obs_errors):\n",
        "    \"\"\" This function shows 6 images with their predicted and real labels\"\"\"\n",
        "    n = 0\n",
        "    nrows = 2\n",
        "    ncols = 3\n",
        "    fig, ax = plt.subplots(nrows,ncols,sharex=True,sharey=True)\n",
        "    for row in range(nrows):\n",
        "        for col in range(ncols):\n",
        "            error = errors_index[n]\n",
        "            ax[row,col].imshow((img_errors[error]).reshape((28,28)))\n",
        "            ax[row,col].set_title(\" Predicted :{} True :{}\".format(pred_errors[error],obs_errors[error]))\n",
        "            n += 1\n",
        "\n",
        "# Probabilities of the wrong predicted numbers\n",
        "Y_pred_errors_prob = np.max(Y_pred_errors,axis = 1)\n",
        "\n",
        "# Predicted probabilities of the true values in the error set\n",
        "true_prob_errors = np.diagonal(np.take(Y_pred_errors, Y_true_errors, axis=1))\n",
        "\n",
        "# Difference between the probability of the predicted label and the true label\n",
        "delta_pred_true_errors = Y_pred_errors_prob - true_prob_errors\n",
        "\n",
        "# Sorted list of the delta prob errors\n",
        "sorted_dela_errors = np.argsort(delta_pred_true_errors)\n",
        "\n",
        "# Top 6 errors\n",
        "most_important_errors = sorted_dela_errors[-6:]\n",
        "\n",
        "# Show the top 6 errors\n",
        "display_errors(most_important_errors, X_val_errors, Y_pred_classes_errors, Y_true_errors)"
      ]
    },
    {
      "cell_type": "markdown",
      "metadata": {
        "id": "7xIbswywsOCH"
      },
      "source": [
        "## 6. Predicting the test data"
      ]
    },
    {
      "cell_type": "code",
      "execution_count": 32,
      "metadata": {
        "colab": {
          "base_uri": "https://localhost:8080/"
        },
        "id": "N9KswR97G4G-",
        "outputId": "e9b565d3-53e4-45b7-fc9d-17ef4f8f6626"
      },
      "outputs": [
        {
          "output_type": "stream",
          "name": "stdout",
          "text": [
            "\u001b[1m875/875\u001b[0m \u001b[32m━━━━━━━━━━━━━━━━━━━━\u001b[0m\u001b[37m\u001b[0m \u001b[1m32s\u001b[0m 37ms/step\n"
          ]
        }
      ],
      "source": [
        "# predict results\n",
        "results = cnn_model.predict(ac07test)\n",
        "\n",
        "# select the indix with the maximum probability\n",
        "results = np.argmax(results,axis = 1)\n",
        "\n",
        "results = pd.Series(results,name=\"Label\")"
      ]
    },
    {
      "cell_type": "code",
      "execution_count": 33,
      "metadata": {
        "colab": {
          "base_uri": "https://localhost:8080/",
          "height": 157
        },
        "id": "i4-__qO8yu9l",
        "outputId": "55e82829-e6ee-400f-d36f-40ecf815ad0c"
      },
      "outputs": [
        {
          "output_type": "display_data",
          "data": {
            "text/plain": [
              "<Figure size 1500x300 with 10 Axes>"
            ],
            "image/png": "[encoded data removed]"
          },
          "metadata": {}
        }
      ],
      "source": [
        "import matplotlib.pyplot as plt\n",
        "\n",
        "# Assuming 'results' contains predicted labels and 'ac07test' contains test images\n",
        "# Select a subset of images to display (e.g., the first 10)\n",
        "num_images_to_display = 10\n",
        "images = ac07test[:num_images_to_display]\n",
        "predicted_labels = results[:num_images_to_display]\n",
        "\n",
        "# Create a figure and axes for the images\n",
        "fig, axes = plt.subplots(1, num_images_to_display, figsize=(15, 3))\n",
        "\n",
        "# Iterate through the images and display them with their predicted labels\n",
        "for i, ax in enumerate(axes):\n",
        "    ax.imshow(images[i].reshape(28, 28), cmap='gray')  # Reshape and display the image\n",
        "    ax.set_title(f\"Predicted: {predicted_labels[i]}\")  # Set the title with the predicted label\n",
        "    ax.axis('off')  # Turn off the axes\n",
        "\n",
        "plt.show()  # Show the figure"
      ]
    },
    {
      "cell_type": "code",
      "execution_count": 34,
      "metadata": {
        "colab": {
          "base_uri": "https://localhost:8080/"
        },
        "id": "AlMCTkrdz-zo",
        "outputId": "4d122fbd-a36f-4a59-96f5-dfdd44340665"
      },
      "outputs": [
        {
          "output_type": "stream",
          "name": "stdout",
          "text": [
            "Images saved to 'predicted_images.zip' file.\n"
          ]
        }
      ],
      "source": [
        "import os\n",
        "import numpy as np\n",
        "from PIL import Image\n",
        "import zipfile\n",
        "\n",
        "# Create a ZIP file to store the images\n",
        "output_zip = 'predicted_images.zip'\n",
        "\n",
        "# Open a new ZIP file in write mode\n",
        "with zipfile.ZipFile(output_zip, 'w') as zipf:\n",
        "    # Iterate through the test images and save them with predicted labels\n",
        "    for i, image in enumerate(ac07test):\n",
        "        predicted_label = results[i]  # Get the predicted label for the current image\n",
        "        image_data = (image.reshape(28, 28) * 255).astype(np.uint8)  # Reshape and scale to 0-255\n",
        "        image = Image.fromarray(image_data, mode='L')  # Create a PIL Image object\n",
        "\n",
        "        # Generate a temporary filename with .jpg extension\n",
        "        image_filename = f'image_{i}_predicted_{predicted_label}.jpg'\n",
        "\n",
        "        # Save the image as JPG\n",
        "        image.save(image_filename, format='JPEG')\n",
        "\n",
        "        # Add the file to the ZIP archive\n",
        "        zipf.write(image_filename)\n",
        "\n",
        "        # Remove the temporary file\n",
        "        os.remove(image_filename)\n",
        "\n",
        "print(f\"Images saved to '{output_zip}' file.\")\n"
      ]
    },
    {
      "cell_type": "code",
      "execution_count": 35,
      "metadata": {
        "id": "qvS8FrQEG4HC"
      },
      "outputs": [],
      "source": [
        "submission = pd.concat([pd.Series(range(1,28001),name = \"ImageId\"),results],axis = 1)\n",
        "\n",
        "submission.to_csv(\"cnn_mnist_datagen.csv\",index=False)"
      ]
    }
  ],
  "metadata": {
    "accelerator": "TPU",
    "colab": {
      "gpuType": "V28",
      "provenance": []
    },
    "kernelspec": {
      "display_name": "Python 3",
      "name": "python3"
    },
    "language_info": {
      "codemirror_mode": {
        "name": "ipython",
        "version": 3
      },
      "file_extension": ".py",
      "mimetype": "text/x-python",
      "name": "python",
      "nbconvert_exporter": "python",
      "pygments_lexer": "ipython3",
      "version": "3.6.4"
    }
  },
  "nbformat": 4,
  "nbformat_minor": 0
}